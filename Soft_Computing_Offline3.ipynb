{
  "nbformat": 4,
  "nbformat_minor": 0,
  "metadata": {
    "colab": {
      "name": "Soft Computing_Offline3.ipynb",
      "provenance": [],
      "collapsed_sections": [
        "Agi2NwzEatXW",
        "zcpdBwBva3RB",
        "F-WDmtKta9qH",
        "HxQS4oQh-I-y",
        "w0kL76vCVxEO",
        "rzROy83Bc0pb",
        "i596KuXCd-fk"
      ]
    },
    "kernelspec": {
      "name": "python3",
      "display_name": "Python 3"
    },
    "language_info": {
      "name": "python"
    }
  },
  "cells": [
    {
      "cell_type": "markdown",
      "metadata": {
        "id": "Agi2NwzEatXW"
      },
      "source": [
        "# **Assignment 3 CNN - 160204107**"
      ]
    },
    {
      "cell_type": "markdown",
      "metadata": {
        "id": "zcpdBwBva3RB"
      },
      "source": [
        "## **Libraries**"
      ]
    },
    {
      "cell_type": "code",
      "metadata": {
        "id": "XAHWOApAafMM",
        "colab": {
          "base_uri": "https://localhost:8080/"
        },
        "outputId": "bc407260-0f63-4c8b-831b-e73f7d9bdbae"
      },
      "source": [
        "import pandas as pd\n",
        "import numpy as np\n",
        "import matplotlib.pyplot as plt\n",
        "\n",
        "from sklearn.model_selection import train_test_split\n",
        "\n",
        "import string\n",
        "import nltk\n",
        "nltk.download('punkt')\n",
        "nltk.download('stopwords')\n",
        "nltk.download('wordnet')\n",
        "from nltk.tokenize import word_tokenize\n",
        "from nltk.corpus import stopwords\n",
        "from nltk.stem import WordNetLemmatizer\n",
        "\n",
        "import tensorflow as tf\n",
        "from tensorflow.keras.preprocessing.text import Tokenizer\n",
        "from tensorflow.keras.preprocessing.sequence import pad_sequences\n",
        "\n",
        "import random\n",
        "from sklearn.metrics import classification_report\n",
        "\n",
        "from sklearn.metrics import confusion_matrix\n",
        "import seaborn as sn"
      ],
      "execution_count": 10,
      "outputs": [
        {
          "output_type": "stream",
          "name": "stdout",
          "text": [
            "[nltk_data] Downloading package punkt to /root/nltk_data...\n",
            "[nltk_data]   Package punkt is already up-to-date!\n",
            "[nltk_data] Downloading package stopwords to /root/nltk_data...\n",
            "[nltk_data]   Package stopwords is already up-to-date!\n",
            "[nltk_data] Downloading package wordnet to /root/nltk_data...\n",
            "[nltk_data]   Package wordnet is already up-to-date!\n"
          ]
        }
      ]
    },
    {
      "cell_type": "markdown",
      "metadata": {
        "id": "F-WDmtKta9qH"
      },
      "source": [
        "## **Step-1 (Dataset Read)**"
      ]
    },
    {
      "cell_type": "markdown",
      "metadata": {
        "id": "V-nGihThbar4"
      },
      "source": [
        "**Mount Drive**"
      ]
    },
    {
      "cell_type": "code",
      "metadata": {
        "colab": {
          "base_uri": "https://localhost:8080/"
        },
        "id": "FaUw0kfRdMpb",
        "outputId": "6eec711e-f92a-432c-8a37-6c64d9467433"
      },
      "source": [
        "from google.colab import drive\n",
        "drive.mount('/content/drive')"
      ],
      "execution_count": 11,
      "outputs": [
        {
          "output_type": "stream",
          "name": "stdout",
          "text": [
            "Drive already mounted at /content/drive; to attempt to forcibly remount, call drive.mount(\"/content/drive\", force_remount=True).\n"
          ]
        }
      ]
    },
    {
      "cell_type": "markdown",
      "metadata": {
        "id": "XEglakNfdRft"
      },
      "source": [
        "**Dataset Read**"
      ]
    },
    {
      "cell_type": "code",
      "metadata": {
        "colab": {
          "base_uri": "https://localhost:8080/",
          "height": 424
        },
        "id": "sOdslZfIdWKp",
        "outputId": "dd14d330-6d1e-489e-85b9-9b1f0251bbb6"
      },
      "source": [
        "df = pd.read_csv('/content/drive/MyDrive/Soft Computing 4.2/Text Classification Dataset/Dataset 3.csv',encoding='ISO-8859-1')\n",
        "df"
      ],
      "execution_count": 12,
      "outputs": [
        {
          "output_type": "execute_result",
          "data": {
            "text/html": [
              "<div>\n",
              "<style scoped>\n",
              "    .dataframe tbody tr th:only-of-type {\n",
              "        vertical-align: middle;\n",
              "    }\n",
              "\n",
              "    .dataframe tbody tr th {\n",
              "        vertical-align: top;\n",
              "    }\n",
              "\n",
              "    .dataframe thead th {\n",
              "        text-align: right;\n",
              "    }\n",
              "</style>\n",
              "<table border=\"1\" class=\"dataframe\">\n",
              "  <thead>\n",
              "    <tr style=\"text-align: right;\">\n",
              "      <th></th>\n",
              "      <th>tweets</th>\n",
              "      <th>sentiment</th>\n",
              "    </tr>\n",
              "  </thead>\n",
              "  <tbody>\n",
              "    <tr>\n",
              "      <th>0</th>\n",
              "      <td>just had a real good moment. i missssssssss hi...</td>\n",
              "      <td>0</td>\n",
              "    </tr>\n",
              "    <tr>\n",
              "      <th>1</th>\n",
              "      <td>is reading manga  http://plurk.com/p/mzp1e</td>\n",
              "      <td>0</td>\n",
              "    </tr>\n",
              "    <tr>\n",
              "      <th>2</th>\n",
              "      <td>@comeagainjen http://twitpic.com/2y2lx - http:...</td>\n",
              "      <td>0</td>\n",
              "    </tr>\n",
              "    <tr>\n",
              "      <th>3</th>\n",
              "      <td>@lapcat Need to send 'em to my accountant tomo...</td>\n",
              "      <td>0</td>\n",
              "    </tr>\n",
              "    <tr>\n",
              "      <th>4</th>\n",
              "      <td>ADD ME ON MYSPACE!!!  myspace.com/LookThunder</td>\n",
              "      <td>0</td>\n",
              "    </tr>\n",
              "    <tr>\n",
              "      <th>...</th>\n",
              "      <td>...</td>\n",
              "      <td>...</td>\n",
              "    </tr>\n",
              "    <tr>\n",
              "      <th>10309</th>\n",
              "      <td>No Depression by G Herbo is my mood from now o...</td>\n",
              "      <td>1</td>\n",
              "    </tr>\n",
              "    <tr>\n",
              "      <th>10310</th>\n",
              "      <td>What do you do when depression succumbs the br...</td>\n",
              "      <td>1</td>\n",
              "    </tr>\n",
              "    <tr>\n",
              "      <th>10311</th>\n",
              "      <td>Ketamine Nasal Spray Shows Promise Against Dep...</td>\n",
              "      <td>1</td>\n",
              "    </tr>\n",
              "    <tr>\n",
              "      <th>10312</th>\n",
              "      <td>dont mistake a bad day with depression! everyo...</td>\n",
              "      <td>1</td>\n",
              "    </tr>\n",
              "    <tr>\n",
              "      <th>10313</th>\n",
              "      <td>0</td>\n",
              "      <td>1</td>\n",
              "    </tr>\n",
              "  </tbody>\n",
              "</table>\n",
              "<p>10314 rows × 2 columns</p>\n",
              "</div>"
            ],
            "text/plain": [
              "                                                  tweets  sentiment\n",
              "0      just had a real good moment. i missssssssss hi...          0\n",
              "1             is reading manga  http://plurk.com/p/mzp1e          0\n",
              "2      @comeagainjen http://twitpic.com/2y2lx - http:...          0\n",
              "3      @lapcat Need to send 'em to my accountant tomo...          0\n",
              "4          ADD ME ON MYSPACE!!!  myspace.com/LookThunder          0\n",
              "...                                                  ...        ...\n",
              "10309  No Depression by G Herbo is my mood from now o...          1\n",
              "10310  What do you do when depression succumbs the br...          1\n",
              "10311  Ketamine Nasal Spray Shows Promise Against Dep...          1\n",
              "10312  dont mistake a bad day with depression! everyo...          1\n",
              "10313                                                  0          1\n",
              "\n",
              "[10314 rows x 2 columns]"
            ]
          },
          "metadata": {},
          "execution_count": 12
        }
      ]
    },
    {
      "cell_type": "markdown",
      "metadata": {
        "id": "HxQS4oQh-I-y"
      },
      "source": [
        "## **Step-2 (Text Preprocessing)**\n",
        "1. Punctuation Remove\n",
        "2. Tokenization\n",
        "3. Removing Stopwords\n",
        "4. Lemmatization"
      ]
    },
    {
      "cell_type": "markdown",
      "metadata": {
        "id": "7Ye3TzVKOgPg"
      },
      "source": [
        "### **Punctuation Remove**"
      ]
    },
    {
      "cell_type": "code",
      "metadata": {
        "colab": {
          "base_uri": "https://localhost:8080/",
          "height": 424
        },
        "id": "IG4t5B_5Gmq5",
        "outputId": "f3293143-a309-45c2-d45c-13ea8a4bff6a"
      },
      "source": [
        "def punc_remove(text):\n",
        "  for i in text:\n",
        "    if i in string.punctuation:\n",
        "      text = text.replace(i,\" \")\n",
        "  return text\n",
        "\n",
        "df['Punc_Remove'] = df['tweets'].apply(lambda x: punc_remove(x))\n",
        "df"
      ],
      "execution_count": 13,
      "outputs": [
        {
          "output_type": "execute_result",
          "data": {
            "text/html": [
              "<div>\n",
              "<style scoped>\n",
              "    .dataframe tbody tr th:only-of-type {\n",
              "        vertical-align: middle;\n",
              "    }\n",
              "\n",
              "    .dataframe tbody tr th {\n",
              "        vertical-align: top;\n",
              "    }\n",
              "\n",
              "    .dataframe thead th {\n",
              "        text-align: right;\n",
              "    }\n",
              "</style>\n",
              "<table border=\"1\" class=\"dataframe\">\n",
              "  <thead>\n",
              "    <tr style=\"text-align: right;\">\n",
              "      <th></th>\n",
              "      <th>tweets</th>\n",
              "      <th>sentiment</th>\n",
              "      <th>Punc_Remove</th>\n",
              "    </tr>\n",
              "  </thead>\n",
              "  <tbody>\n",
              "    <tr>\n",
              "      <th>0</th>\n",
              "      <td>just had a real good moment. i missssssssss hi...</td>\n",
              "      <td>0</td>\n",
              "      <td>just had a real good moment  i missssssssss hi...</td>\n",
              "    </tr>\n",
              "    <tr>\n",
              "      <th>1</th>\n",
              "      <td>is reading manga  http://plurk.com/p/mzp1e</td>\n",
              "      <td>0</td>\n",
              "      <td>is reading manga  http   plurk com p mzp1e</td>\n",
              "    </tr>\n",
              "    <tr>\n",
              "      <th>2</th>\n",
              "      <td>@comeagainjen http://twitpic.com/2y2lx - http:...</td>\n",
              "      <td>0</td>\n",
              "      <td>comeagainjen http   twitpic com 2y2lx   http ...</td>\n",
              "    </tr>\n",
              "    <tr>\n",
              "      <th>3</th>\n",
              "      <td>@lapcat Need to send 'em to my accountant tomo...</td>\n",
              "      <td>0</td>\n",
              "      <td>lapcat Need to send  em to my accountant tomo...</td>\n",
              "    </tr>\n",
              "    <tr>\n",
              "      <th>4</th>\n",
              "      <td>ADD ME ON MYSPACE!!!  myspace.com/LookThunder</td>\n",
              "      <td>0</td>\n",
              "      <td>ADD ME ON MYSPACE     myspace com LookThunder</td>\n",
              "    </tr>\n",
              "    <tr>\n",
              "      <th>...</th>\n",
              "      <td>...</td>\n",
              "      <td>...</td>\n",
              "      <td>...</td>\n",
              "    </tr>\n",
              "    <tr>\n",
              "      <th>10309</th>\n",
              "      <td>No Depression by G Herbo is my mood from now o...</td>\n",
              "      <td>1</td>\n",
              "      <td>No Depression by G Herbo is my mood from now o...</td>\n",
              "    </tr>\n",
              "    <tr>\n",
              "      <th>10310</th>\n",
              "      <td>What do you do when depression succumbs the br...</td>\n",
              "      <td>1</td>\n",
              "      <td>What do you do when depression succumbs the br...</td>\n",
              "    </tr>\n",
              "    <tr>\n",
              "      <th>10311</th>\n",
              "      <td>Ketamine Nasal Spray Shows Promise Against Dep...</td>\n",
              "      <td>1</td>\n",
              "      <td>Ketamine Nasal Spray Shows Promise Against Dep...</td>\n",
              "    </tr>\n",
              "    <tr>\n",
              "      <th>10312</th>\n",
              "      <td>dont mistake a bad day with depression! everyo...</td>\n",
              "      <td>1</td>\n",
              "      <td>dont mistake a bad day with depression  everyo...</td>\n",
              "    </tr>\n",
              "    <tr>\n",
              "      <th>10313</th>\n",
              "      <td>0</td>\n",
              "      <td>1</td>\n",
              "      <td>0</td>\n",
              "    </tr>\n",
              "  </tbody>\n",
              "</table>\n",
              "<p>10314 rows × 3 columns</p>\n",
              "</div>"
            ],
            "text/plain": [
              "                                                  tweets  ...                                        Punc_Remove\n",
              "0      just had a real good moment. i missssssssss hi...  ...  just had a real good moment  i missssssssss hi...\n",
              "1             is reading manga  http://plurk.com/p/mzp1e  ...         is reading manga  http   plurk com p mzp1e\n",
              "2      @comeagainjen http://twitpic.com/2y2lx - http:...  ...   comeagainjen http   twitpic com 2y2lx   http ...\n",
              "3      @lapcat Need to send 'em to my accountant tomo...  ...   lapcat Need to send  em to my accountant tomo...\n",
              "4          ADD ME ON MYSPACE!!!  myspace.com/LookThunder  ...      ADD ME ON MYSPACE     myspace com LookThunder\n",
              "...                                                  ...  ...                                                ...\n",
              "10309  No Depression by G Herbo is my mood from now o...  ...  No Depression by G Herbo is my mood from now o...\n",
              "10310  What do you do when depression succumbs the br...  ...  What do you do when depression succumbs the br...\n",
              "10311  Ketamine Nasal Spray Shows Promise Against Dep...  ...  Ketamine Nasal Spray Shows Promise Against Dep...\n",
              "10312  dont mistake a bad day with depression! everyo...  ...  dont mistake a bad day with depression  everyo...\n",
              "10313                                                  0  ...                                                  0\n",
              "\n",
              "[10314 rows x 3 columns]"
            ]
          },
          "metadata": {},
          "execution_count": 13
        }
      ]
    },
    {
      "cell_type": "markdown",
      "metadata": {
        "id": "vamwOb4qPZvh"
      },
      "source": [
        "### **Tokenization**"
      ]
    },
    {
      "cell_type": "code",
      "metadata": {
        "colab": {
          "base_uri": "https://localhost:8080/",
          "height": 424
        },
        "id": "zq7mnm2uOpoi",
        "outputId": "3c0d9d79-808d-42f8-9dec-20bd85427f82"
      },
      "source": [
        "def tokenization(text):\n",
        "  for i in text:\n",
        "    tokens = word_tokenize(text)\n",
        "    words = [word for word in tokens if word.isalpha()]\n",
        "  return words\n",
        "\n",
        "df['Tokens'] = df['Punc_Remove'].apply(lambda x: tokenization(x.lower()))\n",
        "df"
      ],
      "execution_count": 14,
      "outputs": [
        {
          "output_type": "execute_result",
          "data": {
            "text/html": [
              "<div>\n",
              "<style scoped>\n",
              "    .dataframe tbody tr th:only-of-type {\n",
              "        vertical-align: middle;\n",
              "    }\n",
              "\n",
              "    .dataframe tbody tr th {\n",
              "        vertical-align: top;\n",
              "    }\n",
              "\n",
              "    .dataframe thead th {\n",
              "        text-align: right;\n",
              "    }\n",
              "</style>\n",
              "<table border=\"1\" class=\"dataframe\">\n",
              "  <thead>\n",
              "    <tr style=\"text-align: right;\">\n",
              "      <th></th>\n",
              "      <th>tweets</th>\n",
              "      <th>sentiment</th>\n",
              "      <th>Punc_Remove</th>\n",
              "      <th>Tokens</th>\n",
              "    </tr>\n",
              "  </thead>\n",
              "  <tbody>\n",
              "    <tr>\n",
              "      <th>0</th>\n",
              "      <td>just had a real good moment. i missssssssss hi...</td>\n",
              "      <td>0</td>\n",
              "      <td>just had a real good moment  i missssssssss hi...</td>\n",
              "      <td>[just, had, a, real, good, moment, i, missssss...</td>\n",
              "    </tr>\n",
              "    <tr>\n",
              "      <th>1</th>\n",
              "      <td>is reading manga  http://plurk.com/p/mzp1e</td>\n",
              "      <td>0</td>\n",
              "      <td>is reading manga  http   plurk com p mzp1e</td>\n",
              "      <td>[is, reading, manga, http, plurk, com, p]</td>\n",
              "    </tr>\n",
              "    <tr>\n",
              "      <th>2</th>\n",
              "      <td>@comeagainjen http://twitpic.com/2y2lx - http:...</td>\n",
              "      <td>0</td>\n",
              "      <td>comeagainjen http   twitpic com 2y2lx   http ...</td>\n",
              "      <td>[comeagainjen, http, twitpic, com, http, www, ...</td>\n",
              "    </tr>\n",
              "    <tr>\n",
              "      <th>3</th>\n",
              "      <td>@lapcat Need to send 'em to my accountant tomo...</td>\n",
              "      <td>0</td>\n",
              "      <td>lapcat Need to send  em to my accountant tomo...</td>\n",
              "      <td>[lapcat, need, to, send, em, to, my, accountan...</td>\n",
              "    </tr>\n",
              "    <tr>\n",
              "      <th>4</th>\n",
              "      <td>ADD ME ON MYSPACE!!!  myspace.com/LookThunder</td>\n",
              "      <td>0</td>\n",
              "      <td>ADD ME ON MYSPACE     myspace com LookThunder</td>\n",
              "      <td>[add, me, on, myspace, myspace, com, lookthunder]</td>\n",
              "    </tr>\n",
              "    <tr>\n",
              "      <th>...</th>\n",
              "      <td>...</td>\n",
              "      <td>...</td>\n",
              "      <td>...</td>\n",
              "      <td>...</td>\n",
              "    </tr>\n",
              "    <tr>\n",
              "      <th>10309</th>\n",
              "      <td>No Depression by G Herbo is my mood from now o...</td>\n",
              "      <td>1</td>\n",
              "      <td>No Depression by G Herbo is my mood from now o...</td>\n",
              "      <td>[no, depression, by, g, herbo, is, my, mood, f...</td>\n",
              "    </tr>\n",
              "    <tr>\n",
              "      <th>10310</th>\n",
              "      <td>What do you do when depression succumbs the br...</td>\n",
              "      <td>1</td>\n",
              "      <td>What do you do when depression succumbs the br...</td>\n",
              "      <td>[what, do, you, do, when, depression, succumbs...</td>\n",
              "    </tr>\n",
              "    <tr>\n",
              "      <th>10311</th>\n",
              "      <td>Ketamine Nasal Spray Shows Promise Against Dep...</td>\n",
              "      <td>1</td>\n",
              "      <td>Ketamine Nasal Spray Shows Promise Against Dep...</td>\n",
              "      <td>[ketamine, nasal, spray, shows, promise, again...</td>\n",
              "    </tr>\n",
              "    <tr>\n",
              "      <th>10312</th>\n",
              "      <td>dont mistake a bad day with depression! everyo...</td>\n",
              "      <td>1</td>\n",
              "      <td>dont mistake a bad day with depression  everyo...</td>\n",
              "      <td>[dont, mistake, a, bad, day, with, depression,...</td>\n",
              "    </tr>\n",
              "    <tr>\n",
              "      <th>10313</th>\n",
              "      <td>0</td>\n",
              "      <td>1</td>\n",
              "      <td>0</td>\n",
              "      <td>[]</td>\n",
              "    </tr>\n",
              "  </tbody>\n",
              "</table>\n",
              "<p>10314 rows × 4 columns</p>\n",
              "</div>"
            ],
            "text/plain": [
              "                                                  tweets  ...                                             Tokens\n",
              "0      just had a real good moment. i missssssssss hi...  ...  [just, had, a, real, good, moment, i, missssss...\n",
              "1             is reading manga  http://plurk.com/p/mzp1e  ...          [is, reading, manga, http, plurk, com, p]\n",
              "2      @comeagainjen http://twitpic.com/2y2lx - http:...  ...  [comeagainjen, http, twitpic, com, http, www, ...\n",
              "3      @lapcat Need to send 'em to my accountant tomo...  ...  [lapcat, need, to, send, em, to, my, accountan...\n",
              "4          ADD ME ON MYSPACE!!!  myspace.com/LookThunder  ...  [add, me, on, myspace, myspace, com, lookthunder]\n",
              "...                                                  ...  ...                                                ...\n",
              "10309  No Depression by G Herbo is my mood from now o...  ...  [no, depression, by, g, herbo, is, my, mood, f...\n",
              "10310  What do you do when depression succumbs the br...  ...  [what, do, you, do, when, depression, succumbs...\n",
              "10311  Ketamine Nasal Spray Shows Promise Against Dep...  ...  [ketamine, nasal, spray, shows, promise, again...\n",
              "10312  dont mistake a bad day with depression! everyo...  ...  [dont, mistake, a, bad, day, with, depression,...\n",
              "10313                                                  0  ...                                                 []\n",
              "\n",
              "[10314 rows x 4 columns]"
            ]
          },
          "metadata": {},
          "execution_count": 14
        }
      ]
    },
    {
      "cell_type": "markdown",
      "metadata": {
        "id": "m5cleMJnTShZ"
      },
      "source": [
        "### **Removing Stopwords**"
      ]
    },
    {
      "cell_type": "code",
      "metadata": {
        "colab": {
          "base_uri": "https://localhost:8080/",
          "height": 424
        },
        "id": "tqNpQnj5TWOQ",
        "outputId": "8da9cdc6-f477-446f-fdfe-481f473fc943"
      },
      "source": [
        "def stopWords(text):\n",
        "  stop_words = set(stopwords.words('english'))\n",
        "  for i in text:\n",
        "    text = [w for w in text if not w in stop_words]\n",
        "  return text\n",
        "\n",
        "df['Stopwords_Remove'] = df['Tokens'].apply(lambda x: stopWords(x))\n",
        "df"
      ],
      "execution_count": 15,
      "outputs": [
        {
          "output_type": "execute_result",
          "data": {
            "text/html": [
              "<div>\n",
              "<style scoped>\n",
              "    .dataframe tbody tr th:only-of-type {\n",
              "        vertical-align: middle;\n",
              "    }\n",
              "\n",
              "    .dataframe tbody tr th {\n",
              "        vertical-align: top;\n",
              "    }\n",
              "\n",
              "    .dataframe thead th {\n",
              "        text-align: right;\n",
              "    }\n",
              "</style>\n",
              "<table border=\"1\" class=\"dataframe\">\n",
              "  <thead>\n",
              "    <tr style=\"text-align: right;\">\n",
              "      <th></th>\n",
              "      <th>tweets</th>\n",
              "      <th>sentiment</th>\n",
              "      <th>Punc_Remove</th>\n",
              "      <th>Tokens</th>\n",
              "      <th>Stopwords_Remove</th>\n",
              "    </tr>\n",
              "  </thead>\n",
              "  <tbody>\n",
              "    <tr>\n",
              "      <th>0</th>\n",
              "      <td>just had a real good moment. i missssssssss hi...</td>\n",
              "      <td>0</td>\n",
              "      <td>just had a real good moment  i missssssssss hi...</td>\n",
              "      <td>[just, had, a, real, good, moment, i, missssss...</td>\n",
              "      <td>[real, good, moment, missssssssss, much]</td>\n",
              "    </tr>\n",
              "    <tr>\n",
              "      <th>1</th>\n",
              "      <td>is reading manga  http://plurk.com/p/mzp1e</td>\n",
              "      <td>0</td>\n",
              "      <td>is reading manga  http   plurk com p mzp1e</td>\n",
              "      <td>[is, reading, manga, http, plurk, com, p]</td>\n",
              "      <td>[reading, manga, http, plurk, com, p]</td>\n",
              "    </tr>\n",
              "    <tr>\n",
              "      <th>2</th>\n",
              "      <td>@comeagainjen http://twitpic.com/2y2lx - http:...</td>\n",
              "      <td>0</td>\n",
              "      <td>comeagainjen http   twitpic com 2y2lx   http ...</td>\n",
              "      <td>[comeagainjen, http, twitpic, com, http, www, ...</td>\n",
              "      <td>[comeagainjen, http, twitpic, com, http, www, ...</td>\n",
              "    </tr>\n",
              "    <tr>\n",
              "      <th>3</th>\n",
              "      <td>@lapcat Need to send 'em to my accountant tomo...</td>\n",
              "      <td>0</td>\n",
              "      <td>lapcat Need to send  em to my accountant tomo...</td>\n",
              "      <td>[lapcat, need, to, send, em, to, my, accountan...</td>\n",
              "      <td>[lapcat, need, send, em, accountant, tomorrow,...</td>\n",
              "    </tr>\n",
              "    <tr>\n",
              "      <th>4</th>\n",
              "      <td>ADD ME ON MYSPACE!!!  myspace.com/LookThunder</td>\n",
              "      <td>0</td>\n",
              "      <td>ADD ME ON MYSPACE     myspace com LookThunder</td>\n",
              "      <td>[add, me, on, myspace, myspace, com, lookthunder]</td>\n",
              "      <td>[add, myspace, myspace, com, lookthunder]</td>\n",
              "    </tr>\n",
              "    <tr>\n",
              "      <th>...</th>\n",
              "      <td>...</td>\n",
              "      <td>...</td>\n",
              "      <td>...</td>\n",
              "      <td>...</td>\n",
              "      <td>...</td>\n",
              "    </tr>\n",
              "    <tr>\n",
              "      <th>10309</th>\n",
              "      <td>No Depression by G Herbo is my mood from now o...</td>\n",
              "      <td>1</td>\n",
              "      <td>No Depression by G Herbo is my mood from now o...</td>\n",
              "      <td>[no, depression, by, g, herbo, is, my, mood, f...</td>\n",
              "      <td>[depression, g, herbo, mood, done, stressing, ...</td>\n",
              "    </tr>\n",
              "    <tr>\n",
              "      <th>10310</th>\n",
              "      <td>What do you do when depression succumbs the br...</td>\n",
              "      <td>1</td>\n",
              "      <td>What do you do when depression succumbs the br...</td>\n",
              "      <td>[what, do, you, do, when, depression, succumbs...</td>\n",
              "      <td>[depression, succumbs, brain, makes, feel, lik...</td>\n",
              "    </tr>\n",
              "    <tr>\n",
              "      <th>10311</th>\n",
              "      <td>Ketamine Nasal Spray Shows Promise Against Dep...</td>\n",
              "      <td>1</td>\n",
              "      <td>Ketamine Nasal Spray Shows Promise Against Dep...</td>\n",
              "      <td>[ketamine, nasal, spray, shows, promise, again...</td>\n",
              "      <td>[ketamine, nasal, spray, shows, promise, depre...</td>\n",
              "    </tr>\n",
              "    <tr>\n",
              "      <th>10312</th>\n",
              "      <td>dont mistake a bad day with depression! everyo...</td>\n",
              "      <td>1</td>\n",
              "      <td>dont mistake a bad day with depression  everyo...</td>\n",
              "      <td>[dont, mistake, a, bad, day, with, depression,...</td>\n",
              "      <td>[dont, mistake, bad, day, depression, everyone...</td>\n",
              "    </tr>\n",
              "    <tr>\n",
              "      <th>10313</th>\n",
              "      <td>0</td>\n",
              "      <td>1</td>\n",
              "      <td>0</td>\n",
              "      <td>[]</td>\n",
              "      <td>[]</td>\n",
              "    </tr>\n",
              "  </tbody>\n",
              "</table>\n",
              "<p>10314 rows × 5 columns</p>\n",
              "</div>"
            ],
            "text/plain": [
              "                                                  tweets  ...                                   Stopwords_Remove\n",
              "0      just had a real good moment. i missssssssss hi...  ...           [real, good, moment, missssssssss, much]\n",
              "1             is reading manga  http://plurk.com/p/mzp1e  ...              [reading, manga, http, plurk, com, p]\n",
              "2      @comeagainjen http://twitpic.com/2y2lx - http:...  ...  [comeagainjen, http, twitpic, com, http, www, ...\n",
              "3      @lapcat Need to send 'em to my accountant tomo...  ...  [lapcat, need, send, em, accountant, tomorrow,...\n",
              "4          ADD ME ON MYSPACE!!!  myspace.com/LookThunder  ...          [add, myspace, myspace, com, lookthunder]\n",
              "...                                                  ...  ...                                                ...\n",
              "10309  No Depression by G Herbo is my mood from now o...  ...  [depression, g, herbo, mood, done, stressing, ...\n",
              "10310  What do you do when depression succumbs the br...  ...  [depression, succumbs, brain, makes, feel, lik...\n",
              "10311  Ketamine Nasal Spray Shows Promise Against Dep...  ...  [ketamine, nasal, spray, shows, promise, depre...\n",
              "10312  dont mistake a bad day with depression! everyo...  ...  [dont, mistake, bad, day, depression, everyone...\n",
              "10313                                                  0  ...                                                 []\n",
              "\n",
              "[10314 rows x 5 columns]"
            ]
          },
          "metadata": {},
          "execution_count": 15
        }
      ]
    },
    {
      "cell_type": "markdown",
      "metadata": {
        "id": "cWdZr7zRUbk7"
      },
      "source": [
        "### **Lemmatization**"
      ]
    },
    {
      "cell_type": "code",
      "metadata": {
        "colab": {
          "base_uri": "https://localhost:8080/",
          "height": 563
        },
        "id": "oZVV8ZZ0UgkB",
        "outputId": "894afc02-ad84-4549-c266-ebb474a049f7"
      },
      "source": [
        "def lematization(text):\n",
        "  lemmatizer = WordNetLemmatizer()\n",
        "  for i in text:\n",
        "    text = [lemmatizer.lemmatize(w) for w in text]\n",
        "  return text\n",
        "\n",
        "df['Lemmatization'] = df['Stopwords_Remove'].apply(lambda x: lematization(x))\n",
        "df"
      ],
      "execution_count": 16,
      "outputs": [
        {
          "output_type": "execute_result",
          "data": {
            "text/html": [
              "<div>\n",
              "<style scoped>\n",
              "    .dataframe tbody tr th:only-of-type {\n",
              "        vertical-align: middle;\n",
              "    }\n",
              "\n",
              "    .dataframe tbody tr th {\n",
              "        vertical-align: top;\n",
              "    }\n",
              "\n",
              "    .dataframe thead th {\n",
              "        text-align: right;\n",
              "    }\n",
              "</style>\n",
              "<table border=\"1\" class=\"dataframe\">\n",
              "  <thead>\n",
              "    <tr style=\"text-align: right;\">\n",
              "      <th></th>\n",
              "      <th>tweets</th>\n",
              "      <th>sentiment</th>\n",
              "      <th>Punc_Remove</th>\n",
              "      <th>Tokens</th>\n",
              "      <th>Stopwords_Remove</th>\n",
              "      <th>Lemmatization</th>\n",
              "    </tr>\n",
              "  </thead>\n",
              "  <tbody>\n",
              "    <tr>\n",
              "      <th>0</th>\n",
              "      <td>just had a real good moment. i missssssssss hi...</td>\n",
              "      <td>0</td>\n",
              "      <td>just had a real good moment  i missssssssss hi...</td>\n",
              "      <td>[just, had, a, real, good, moment, i, missssss...</td>\n",
              "      <td>[real, good, moment, missssssssss, much]</td>\n",
              "      <td>[real, good, moment, miss, much]</td>\n",
              "    </tr>\n",
              "    <tr>\n",
              "      <th>1</th>\n",
              "      <td>is reading manga  http://plurk.com/p/mzp1e</td>\n",
              "      <td>0</td>\n",
              "      <td>is reading manga  http   plurk com p mzp1e</td>\n",
              "      <td>[is, reading, manga, http, plurk, com, p]</td>\n",
              "      <td>[reading, manga, http, plurk, com, p]</td>\n",
              "      <td>[reading, manga, http, plurk, com, p]</td>\n",
              "    </tr>\n",
              "    <tr>\n",
              "      <th>2</th>\n",
              "      <td>@comeagainjen http://twitpic.com/2y2lx - http:...</td>\n",
              "      <td>0</td>\n",
              "      <td>comeagainjen http   twitpic com 2y2lx   http ...</td>\n",
              "      <td>[comeagainjen, http, twitpic, com, http, www, ...</td>\n",
              "      <td>[comeagainjen, http, twitpic, com, http, www, ...</td>\n",
              "      <td>[comeagainjen, http, twitpic, com, http, www, ...</td>\n",
              "    </tr>\n",
              "    <tr>\n",
              "      <th>3</th>\n",
              "      <td>@lapcat Need to send 'em to my accountant tomo...</td>\n",
              "      <td>0</td>\n",
              "      <td>lapcat Need to send  em to my accountant tomo...</td>\n",
              "      <td>[lapcat, need, to, send, em, to, my, accountan...</td>\n",
              "      <td>[lapcat, need, send, em, accountant, tomorrow,...</td>\n",
              "      <td>[lapcat, need, send, em, accountant, tomorrow,...</td>\n",
              "    </tr>\n",
              "    <tr>\n",
              "      <th>4</th>\n",
              "      <td>ADD ME ON MYSPACE!!!  myspace.com/LookThunder</td>\n",
              "      <td>0</td>\n",
              "      <td>ADD ME ON MYSPACE     myspace com LookThunder</td>\n",
              "      <td>[add, me, on, myspace, myspace, com, lookthunder]</td>\n",
              "      <td>[add, myspace, myspace, com, lookthunder]</td>\n",
              "      <td>[add, myspace, myspace, com, lookthunder]</td>\n",
              "    </tr>\n",
              "    <tr>\n",
              "      <th>...</th>\n",
              "      <td>...</td>\n",
              "      <td>...</td>\n",
              "      <td>...</td>\n",
              "      <td>...</td>\n",
              "      <td>...</td>\n",
              "      <td>...</td>\n",
              "    </tr>\n",
              "    <tr>\n",
              "      <th>10309</th>\n",
              "      <td>No Depression by G Herbo is my mood from now o...</td>\n",
              "      <td>1</td>\n",
              "      <td>No Depression by G Herbo is my mood from now o...</td>\n",
              "      <td>[no, depression, by, g, herbo, is, my, mood, f...</td>\n",
              "      <td>[depression, g, herbo, mood, done, stressing, ...</td>\n",
              "      <td>[depression, g, herbo, mood, done, stressing, ...</td>\n",
              "    </tr>\n",
              "    <tr>\n",
              "      <th>10310</th>\n",
              "      <td>What do you do when depression succumbs the br...</td>\n",
              "      <td>1</td>\n",
              "      <td>What do you do when depression succumbs the br...</td>\n",
              "      <td>[what, do, you, do, when, depression, succumbs...</td>\n",
              "      <td>[depression, succumbs, brain, makes, feel, lik...</td>\n",
              "      <td>[depression, succumbs, brain, make, feel, like...</td>\n",
              "    </tr>\n",
              "    <tr>\n",
              "      <th>10311</th>\n",
              "      <td>Ketamine Nasal Spray Shows Promise Against Dep...</td>\n",
              "      <td>1</td>\n",
              "      <td>Ketamine Nasal Spray Shows Promise Against Dep...</td>\n",
              "      <td>[ketamine, nasal, spray, shows, promise, again...</td>\n",
              "      <td>[ketamine, nasal, spray, shows, promise, depre...</td>\n",
              "      <td>[ketamine, nasal, spray, show, promise, depres...</td>\n",
              "    </tr>\n",
              "    <tr>\n",
              "      <th>10312</th>\n",
              "      <td>dont mistake a bad day with depression! everyo...</td>\n",
              "      <td>1</td>\n",
              "      <td>dont mistake a bad day with depression  everyo...</td>\n",
              "      <td>[dont, mistake, a, bad, day, with, depression,...</td>\n",
              "      <td>[dont, mistake, bad, day, depression, everyone...</td>\n",
              "      <td>[dont, mistake, bad, day, depression, everyone...</td>\n",
              "    </tr>\n",
              "    <tr>\n",
              "      <th>10313</th>\n",
              "      <td>0</td>\n",
              "      <td>1</td>\n",
              "      <td>0</td>\n",
              "      <td>[]</td>\n",
              "      <td>[]</td>\n",
              "      <td>[]</td>\n",
              "    </tr>\n",
              "  </tbody>\n",
              "</table>\n",
              "<p>10314 rows × 6 columns</p>\n",
              "</div>"
            ],
            "text/plain": [
              "                                                  tweets  ...                                      Lemmatization\n",
              "0      just had a real good moment. i missssssssss hi...  ...                   [real, good, moment, miss, much]\n",
              "1             is reading manga  http://plurk.com/p/mzp1e  ...              [reading, manga, http, plurk, com, p]\n",
              "2      @comeagainjen http://twitpic.com/2y2lx - http:...  ...  [comeagainjen, http, twitpic, com, http, www, ...\n",
              "3      @lapcat Need to send 'em to my accountant tomo...  ...  [lapcat, need, send, em, accountant, tomorrow,...\n",
              "4          ADD ME ON MYSPACE!!!  myspace.com/LookThunder  ...          [add, myspace, myspace, com, lookthunder]\n",
              "...                                                  ...  ...                                                ...\n",
              "10309  No Depression by G Herbo is my mood from now o...  ...  [depression, g, herbo, mood, done, stressing, ...\n",
              "10310  What do you do when depression succumbs the br...  ...  [depression, succumbs, brain, make, feel, like...\n",
              "10311  Ketamine Nasal Spray Shows Promise Against Dep...  ...  [ketamine, nasal, spray, show, promise, depres...\n",
              "10312  dont mistake a bad day with depression! everyo...  ...  [dont, mistake, bad, day, depression, everyone...\n",
              "10313                                                  0  ...                                                 []\n",
              "\n",
              "[10314 rows x 6 columns]"
            ]
          },
          "metadata": {},
          "execution_count": 16
        }
      ]
    },
    {
      "cell_type": "markdown",
      "metadata": {
        "id": "w0kL76vCVxEO"
      },
      "source": [
        "## **Step-3 (Train, Test, Validation Prepare)**"
      ]
    },
    {
      "cell_type": "code",
      "metadata": {
        "colab": {
          "base_uri": "https://localhost:8080/"
        },
        "id": "uaQkdJCnYSNy",
        "outputId": "b9ffbaa3-62be-43ca-da27-6c3ae09b2fee"
      },
      "source": [
        "df_Train, df_Test = train_test_split(df,train_size=0.8,test_size=0.2,random_state=107)\n",
        "\n",
        "df_Train = df_Train.sort_index(ascending=True)\n",
        "df_Test = df_Test.sort_index(ascending=True)\n",
        "\n",
        "print('Total Data: ', len(df))\n",
        "print('Train Data: ', len(df_Train))\n",
        "print('Test Data: ', len(df_Test))"
      ],
      "execution_count": 17,
      "outputs": [
        {
          "output_type": "stream",
          "name": "stdout",
          "text": [
            "Total Data:  10314\n",
            "Train Data:  8251\n",
            "Test Data:  2063\n"
          ]
        }
      ]
    },
    {
      "cell_type": "markdown",
      "metadata": {
        "id": "E3aXJ6GsBUWi"
      },
      "source": [
        "**Tweets and Sentiment labels**"
      ]
    },
    {
      "cell_type": "code",
      "metadata": {
        "id": "FMfgjYE_BX8S"
      },
      "source": [
        "def get_tweet(data):\n",
        "  tweets = [x for x in data.Lemmatization]\n",
        "  labels = [x for x in data.sentiment]\n",
        "  return tweets, labels\n",
        "\n",
        "tweetsTrain, labelsTrain = get_tweet(df_Train)\n",
        "tweetsTest, labelsTest = get_tweet(df_Test)"
      ],
      "execution_count": 18,
      "outputs": []
    },
    {
      "cell_type": "markdown",
      "metadata": {
        "id": "rzROy83Bc0pb"
      },
      "source": [
        "## **Step-4 (Tokenizing the Tweets into Number Sequences)**"
      ]
    },
    {
      "cell_type": "code",
      "metadata": {
        "colab": {
          "base_uri": "https://localhost:8080/"
        },
        "id": "sq9pwM0dc-4c",
        "outputId": "164bc52e-53a3-417c-e9c3-10aed63baf73"
      },
      "source": [
        "tokenizer = Tokenizer(num_words=10000, oov_token='<UNK>')\n",
        "tokenizer.fit_on_texts(df_Train.Lemmatization)\n",
        "\n",
        "print(tokenizer.texts_to_sequences([df_Train.Lemmatization[0]]))\n",
        "print(df_Train.Lemmatization[1])"
      ],
      "execution_count": 19,
      "outputs": [
        {
          "output_type": "stream",
          "name": "stdout",
          "text": [
            "[[127, 5, 473, 180, 38]]\n",
            "['reading', 'manga', 'http', 'plurk', 'com', 'p']\n"
          ]
        }
      ]
    },
    {
      "cell_type": "markdown",
      "metadata": {
        "id": "i596KuXCd-fk"
      },
      "source": [
        "## **Task 5: Padding and Truncating Sequences**"
      ]
    },
    {
      "cell_type": "code",
      "metadata": {
        "id": "R0Kk6leaeGYh"
      },
      "source": [
        "maxlen = 60\n",
        "def get_sequences(tokenizer, Lemmatization):\n",
        "  sequences = tokenizer.texts_to_sequences(Lemmatization)\n",
        "  padded = pad_sequences(sequences, truncating='post', padding='post', maxlen=maxlen)\n",
        "  return padded\n",
        "\n",
        "padded_Train_seq = get_sequences(tokenizer, df_Train.Lemmatization)\n",
        "padded_Test_seq = get_sequences(tokenizer, df_Test.Lemmatization)"
      ],
      "execution_count": 20,
      "outputs": []
    },
    {
      "cell_type": "markdown",
      "metadata": {
        "id": "gaRHDpkIZ1kM"
      },
      "source": [
        "## **Step-6 (CNN Model)**"
      ]
    },
    {
      "cell_type": "code",
      "metadata": {
        "id": "zXIdSdk_bhjO"
      },
      "source": [
        "X_Train = padded_Train_seq.tolist()\n",
        "Y_Train = labelsTrain\n",
        "X_Test = padded_Test_seq.tolist()\n",
        "Y_Test = labelsTest"
      ],
      "execution_count": 21,
      "outputs": []
    },
    {
      "cell_type": "markdown",
      "metadata": {
        "id": "-ilZbSsVerQh"
      },
      "source": [
        "**CNN Model Creation & Compilation**"
      ]
    },
    {
      "cell_type": "code",
      "metadata": {
        "id": "63Mas0CsfPmX",
        "colab": {
          "base_uri": "https://localhost:8080/"
        },
        "outputId": "706c9781-6918-4550-c96d-fa439a46f2f9"
      },
      "source": [
        "model = tf.keras.models.Sequential([\n",
        "                  tf.keras.layers.Embedding(10000, 16, input_length=maxlen),\n",
        "\n",
        "                  tf.keras.layers.Conv1D(64, 3, activation='relu'),                 \n",
        "                  tf.keras.layers.MaxPooling1D(),\n",
        "\n",
        "                  tf.keras.layers.Conv1D(32, 3, activation='relu'),                 \n",
        "                  tf.keras.layers.MaxPooling1D(),\n",
        "\n",
        "                  tf.keras.layers.Conv1D(16, 3, activation='relu'),                 \n",
        "                  tf.keras.layers.GlobalMaxPooling1D(),\n",
        "                                  \n",
        "                  tf.keras.layers.Dense(10, activation='relu'),\n",
        "                  tf.keras.layers.Dense(1, activation='sigmoid'),                                \n",
        "])\n",
        "\n",
        "model.compile(\n",
        "    loss = 'binary_crossentropy',\n",
        "    optimizer = 'adam',\n",
        "    metrics = ['accuracy']\n",
        ")\n",
        "\n",
        "print(model.summary())"
      ],
      "execution_count": 22,
      "outputs": [
        {
          "output_type": "stream",
          "name": "stdout",
          "text": [
            "Model: \"sequential\"\n",
            "_________________________________________________________________\n",
            "Layer (type)                 Output Shape              Param #   \n",
            "=================================================================\n",
            "embedding (Embedding)        (None, 60, 16)            160000    \n",
            "_________________________________________________________________\n",
            "conv1d (Conv1D)              (None, 58, 64)            3136      \n",
            "_________________________________________________________________\n",
            "max_pooling1d (MaxPooling1D) (None, 29, 64)            0         \n",
            "_________________________________________________________________\n",
            "conv1d_1 (Conv1D)            (None, 27, 32)            6176      \n",
            "_________________________________________________________________\n",
            "max_pooling1d_1 (MaxPooling1 (None, 13, 32)            0         \n",
            "_________________________________________________________________\n",
            "conv1d_2 (Conv1D)            (None, 11, 16)            1552      \n",
            "_________________________________________________________________\n",
            "global_max_pooling1d (Global (None, 16)                0         \n",
            "_________________________________________________________________\n",
            "dense (Dense)                (None, 10)                170       \n",
            "_________________________________________________________________\n",
            "dense_1 (Dense)              (None, 1)                 11        \n",
            "=================================================================\n",
            "Total params: 171,045\n",
            "Trainable params: 171,045\n",
            "Non-trainable params: 0\n",
            "_________________________________________________________________\n",
            "None\n"
          ]
        }
      ]
    },
    {
      "cell_type": "markdown",
      "metadata": {
        "id": "o4-KrStOdF-N"
      },
      "source": [
        "**Model Fit**"
      ]
    },
    {
      "cell_type": "code",
      "metadata": {
        "colab": {
          "base_uri": "https://localhost:8080/"
        },
        "id": "OeG_wGmg22aL",
        "outputId": "f5b9f99a-c49b-42b6-b26d-cd79cfb8b5c5"
      },
      "source": [
        "h = model.fit(X_Train, Y_Train,\n",
        "                    epochs=5,\n",
        "                    verbose=True,\n",
        "                    validation_data=(X_Test, Y_Test),\n",
        "                    batch_size=10)"
      ],
      "execution_count": 23,
      "outputs": [
        {
          "output_type": "stream",
          "name": "stdout",
          "text": [
            "Epoch 1/5\n",
            "826/826 [==============================] - 6s 7ms/step - loss: 0.1517 - accuracy: 0.9435 - val_loss: 0.0169 - val_accuracy: 0.9961\n",
            "Epoch 2/5\n",
            "826/826 [==============================] - 5s 6ms/step - loss: 0.0152 - accuracy: 0.9973 - val_loss: 0.0138 - val_accuracy: 0.9981\n",
            "Epoch 3/5\n",
            "826/826 [==============================] - 5s 6ms/step - loss: 0.0119 - accuracy: 0.9981 - val_loss: 0.0196 - val_accuracy: 0.9947\n",
            "Epoch 4/5\n",
            "826/826 [==============================] - 5s 6ms/step - loss: 0.0102 - accuracy: 0.9985 - val_loss: 0.0134 - val_accuracy: 0.9956\n",
            "Epoch 5/5\n",
            "826/826 [==============================] - 5s 6ms/step - loss: 0.0100 - accuracy: 0.9987 - val_loss: 0.0145 - val_accuracy: 0.9966\n"
          ]
        }
      ]
    },
    {
      "cell_type": "markdown",
      "metadata": {
        "id": "fmJRsz5Nfruw"
      },
      "source": [
        "**Train And Test Accuracy Check**"
      ]
    },
    {
      "cell_type": "code",
      "metadata": {
        "colab": {
          "base_uri": "https://localhost:8080/"
        },
        "id": "NmyACtnTe-Mm",
        "outputId": "e3b5e8f9-3536-4ac1-806b-64e0e57dc908"
      },
      "source": [
        "loss, accuracy = model.evaluate(X_Train, Y_Train, verbose=True)\n",
        "print(\"Train Accuracy: {:.3f}\".format(accuracy))\n",
        "loss, accuracy = model.evaluate(X_Test, Y_Test, verbose=False)\n",
        "print(\"Test Accuracy:  {:.3f}\".format(accuracy))"
      ],
      "execution_count": 24,
      "outputs": [
        {
          "output_type": "stream",
          "name": "stdout",
          "text": [
            "258/258 [==============================] - 1s 3ms/step - loss: 0.0082 - accuracy: 0.9988\n",
            "Train Accuracy: 0.999\n",
            "Test Accuracy:  0.997\n"
          ]
        }
      ]
    },
    {
      "cell_type": "markdown",
      "metadata": {
        "id": "69_zWNMGnkWy"
      },
      "source": [
        "**Loss and Accuracy Curve**"
      ]
    },
    {
      "cell_type": "code",
      "metadata": {
        "colab": {
          "base_uri": "https://localhost:8080/",
          "height": 392
        },
        "id": "nSp8Smunnjym",
        "outputId": "1f94f8b8-b4e9-4030-d9d2-6ef69dc4f31f"
      },
      "source": [
        "def show_history(h):\n",
        "    epochs_trained = len(h.history['loss'])\n",
        "    plt.figure(figsize=(16, 6))\n",
        "\n",
        "    plt.subplot(1, 2, 1)\n",
        "    plt.plot(range(0, epochs_trained), h.history.get('accuracy'), label='Training')\n",
        "    plt.plot(range(0, epochs_trained), h.history.get('val_accuracy'), label='Validation')\n",
        "    plt.ylim([0., 1.2])\n",
        "    plt.xlabel('Epochs')\n",
        "    plt.ylabel('Accuracy')\n",
        "    plt.legend()\n",
        "\n",
        "    plt.subplot(1, 2, 2)\n",
        "    plt.plot(range(0, epochs_trained), h.history.get('loss'), label='Training')\n",
        "    plt.plot(range(0, epochs_trained), h.history.get('val_loss'), label='Validation')\n",
        "    plt.xlabel('Epochs')\n",
        "    plt.ylabel('Loss')\n",
        "    plt.legend()\n",
        "    plt.show()\n",
        "\n",
        "show_history(h)"
      ],
      "execution_count": 25,
      "outputs": [
        {
          "output_type": "display_data",
          "data": {
            "image/png": "[encoded data removed]",
            "text/plain": [
              "<Figure size 1152x432 with 2 Axes>"
            ]
          },
          "metadata": {
            "needs_background": "light"
          }
        }
      ]
    },
    {
      "cell_type": "markdown",
      "metadata": {
        "id": "MWzZmVvL0DJe"
      },
      "source": [
        "## **Step-7 (Prediction)**"
      ]
    },
    {
      "cell_type": "code",
      "metadata": {
        "colab": {
          "base_uri": "https://localhost:8080/"
        },
        "id": "UPmjsJmh0MOL",
        "outputId": "5c381b87-c921-4011-913c-a37891a4e785"
      },
      "source": [
        "Pred=model.predict(X_Test) \n",
        "Y_Pred = [int(np.round(x)[0]) for x in Pred]\n",
        "print('Tweet: ', df_Test.tweets[3])\n",
        "print('Sentiment: ', df_Test.sentiment[3])\n",
        "print('Predicted Sentiment: ', Y_Pred[3])"
      ],
      "execution_count": 29,
      "outputs": [
        {
          "output_type": "stream",
          "name": "stdout",
          "text": [
            "Tweet:  @lapcat Need to send 'em to my accountant tomorrow. Oddly, I wasn't even referring to my taxes. Those are supporting evidence, though. \n",
            "Sentiment:  0\n",
            "Predicted Sentiment:  0\n"
          ]
        }
      ]
    },
    {
      "cell_type": "markdown",
      "metadata": {
        "id": "-c8pNWdCnazX"
      },
      "source": [
        "## **Step-8 (Accuracy, Precision, Recall, F1-Score)**\n",
        "\n",
        "1.   **Accuracy** = $\\frac{\\text{TP+TN}}{\\text{TP+TN+FP+FN}}$\n",
        "2.   **Precision** = $\\frac{\\text{TP}}{\\text{TP+FP}}$ \n",
        "3.   **Recall** = $\\frac{\\text{TP}}{\\text{TP+FN}}$ \n",
        "4.   **F1-score** = $\\frac{\\text{2*Precision*Recall}}{\\text{Precision+Recall}}$ "
      ]
    },
    {
      "cell_type": "code",
      "metadata": {
        "colab": {
          "base_uri": "https://localhost:8080/"
        },
        "id": "FpIeDJujrSF-",
        "outputId": "5dc700e4-9d89-42d1-ef99-70f1e5e1f83e"
      },
      "source": [
        "print('--------------------Classification Report--------------------')\n",
        "print()\n",
        "print(classification_report(Y_Test,Y_Pred))"
      ],
      "execution_count": 30,
      "outputs": [
        {
          "output_type": "stream",
          "name": "stdout",
          "text": [
            "--------------------Classification Report--------------------\n",
            "\n",
            "              precision    recall  f1-score   support\n",
            "\n",
            "           0       1.00      1.00      1.00      1583\n",
            "           1       0.99      0.99      0.99       480\n",
            "\n",
            "    accuracy                           1.00      2063\n",
            "   macro avg       1.00      0.99      1.00      2063\n",
            "weighted avg       1.00      1.00      1.00      2063\n",
            "\n"
          ]
        }
      ]
    },
    {
      "cell_type": "markdown",
      "metadata": {
        "id": "73ntDlvv0tkS"
      },
      "source": [
        "## **Step-9 (Confusion Matrix)**"
      ]
    },
    {
      "cell_type": "code",
      "metadata": {
        "colab": {
          "base_uri": "https://localhost:8080/",
          "height": 284
        },
        "id": "vc-pR3jXuPrV",
        "outputId": "ce65fd6d-1f88-44a6-fc00-ef615723d802"
      },
      "source": [
        "conf=confusion_matrix(Y_Test,Y_Pred)\n",
        "conf\n",
        "sn.heatmap(conf, cmap=\"Purples_r\", annot=True)"
      ],
      "execution_count": 31,
      "outputs": [
        {
          "output_type": "execute_result",
          "data": {
            "text/plain": [
              "<matplotlib.axes._subplots.AxesSubplot at 0x7f9d465598d0>"
            ]
          },
          "metadata": {},
          "execution_count": 31
        },
        {
          "output_type": "display_data",
          "data": {
            "image/png": "[encoded data removed]",
            "text/plain": [
              "<Figure size 432x288 with 2 Axes>"
            ]
          },
          "metadata": {
            "needs_background": "light"
          }
        }
      ]
    }
  ]
}